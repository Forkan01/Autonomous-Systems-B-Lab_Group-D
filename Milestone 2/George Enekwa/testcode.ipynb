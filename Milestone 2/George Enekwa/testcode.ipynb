{
 "cells": [
  {
   "cell_type": "code",
   "execution_count": 4,
   "id": "7a9a1848",
   "metadata": {},
   "outputs": [
    {
     "name": "stdout",
     "output_type": "stream",
     "text": [
      "your requested information is\n",
      "George is engineer\n",
      "Deep learning course\n",
      "Electronics engineering\n",
      "Autonomous vehicles and drones\n"
     ]
    }
   ],
   "source": [
    "file4 = open(\"untitled.txt\",\"r+\")\n",
    "print (\"your requested information is\")\n",
    "print(file4.read())\n",
    "\n",
    "    "
   ]
  },
  {
   "cell_type": "code",
   "execution_count": 11,
   "id": "adb5aba9",
   "metadata": {},
   "outputs": [
    {
     "name": "stdout",
     "output_type": "stream",
     "text": [
      "Semester grades\n",
      "\n"
     ]
    }
   ],
   "source": [
    "file4 = open(\"untitled.txt\",\"w\") \n",
    "file4.write (\"Semester grades\\n\")\n",
    "file4.close()\n",
    "\n",
    "file4 = open(\"untitled.txt\",\"r+\")\n",
    "\n",
    "print(file4.read())"
   ]
  },
  {
   "cell_type": "code",
   "execution_count": 12,
   "id": "cfb5ecb5",
   "metadata": {},
   "outputs": [
    {
     "name": "stdout",
     "output_type": "stream",
     "text": [
      "Semester grades\n",
      "George\n",
      "\n"
     ]
    }
   ],
   "source": [
    "file4 = open (\"untitled.txt\", \"a\")\n",
    "file4.write(\"George\\n\")\n",
    "file4.close()\n",
    "\n",
    "file4 = open(\"untitled.txt\",\"r\")\n",
    "print(file4.read())"
   ]
  },
  {
   "cell_type": "code",
   "execution_count": null,
   "id": "63f245d8",
   "metadata": {},
   "outputs": [],
   "source": []
  },
  {
   "cell_type": "code",
   "execution_count": null,
   "id": "3703a143",
   "metadata": {},
   "outputs": [],
   "source": []
  }
 ],
 "metadata": {
  "kernelspec": {
   "display_name": "Python 3 (ipykernel)",
   "language": "python",
   "name": "python3"
  },
  "language_info": {
   "codemirror_mode": {
    "name": "ipython",
    "version": 3
   },
   "file_extension": ".py",
   "mimetype": "text/x-python",
   "name": "python",
   "nbconvert_exporter": "python",
   "pygments_lexer": "ipython3",
   "version": "3.9.13"
  }
 },
 "nbformat": 4,
 "nbformat_minor": 5
}
